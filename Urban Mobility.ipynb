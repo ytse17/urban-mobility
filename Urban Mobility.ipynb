{
 "cells": [
  {
   "cell_type": "markdown",
   "metadata": {},
   "source": [
    "# Project 1\n"
   ]
  },
  {
   "cell_type": "code",
   "execution_count": 2,
   "metadata": {},
   "outputs": [],
   "source": [
    "from datascience import *\n",
    "import datascience as ds\n",
    "import numpy as np\n",
    "from sklearn import linear_model\n",
    "from sklearn.metrics import mean_squared_error, r2_score\n",
    "import matplotlib.pyplot as plt\n",
    "import seaborn\n",
    "from datetime import datetime\n",
    "seaborn.set_context(rc={'lines.markeredgewidth': 1.0})\n",
    "%matplotlib inline"
   ]
  },
  {
   "cell_type": "code",
   "execution_count": 35,
   "metadata": {},
   "outputs": [
    {
     "data": {
      "text/html": [
       "<table border=\"1\" class=\"dataframe\">\n",
       "    <thead>\n",
       "        <tr>\n",
       "            <th>id</th> <th>departure time</th> <th>arrival time</th> <th>fare ($)</th> <th>num</th> <th>dep lon</th> <th>dep lat</th> <th>arr lon</th> <th>arr lat</th> <th>deptaz</th> <th>arrtaz</th> <th>dist (miles)</th>\n",
       "        </tr>\n",
       "    </thead>\n",
       "    <tbody>\n",
       "        <tr>\n",
       "            <td>3969 </td> <td>9/1/12 21:16  </td> <td>9/1/12 21:18 </td> <td>3.5     </td> <td>1   </td> <td>-122.405</td> <td>37.7967</td> <td>-122.409</td> <td>37.7998</td> <td>24    </td> <td>37    </td> <td>0.481116    </td>\n",
       "        </tr>\n",
       "    </tbody>\n",
       "        <tr>\n",
       "            <td>5337 </td> <td>9/2/12 4:35   </td> <td>9/2/12 4:45  </td> <td>3.5     </td> <td>1   </td> <td>-122.418</td> <td>37.7854</td> <td>-122.438</td> <td>37.7997</td> <td>30    </td> <td>50    </td> <td>2.1023      </td>\n",
       "        </tr>\n",
       "    </tbody>\n",
       "        <tr>\n",
       "            <td>23876</td> <td>9/8/12 1:20   </td> <td>9/8/12 1:31  </td> <td>3.5     </td> <td>1   </td> <td>-122.44 </td> <td>37.8004</td> <td>-122.46 </td> <td>37.7856</td> <td>50    </td> <td>66    </td> <td>1.94242     </td>\n",
       "        </tr>\n",
       "    </tbody>\n",
       "        <tr>\n",
       "            <td>44278</td> <td>9/11/12 12:25 </td> <td>9/11/12 12:48</td> <td>3.5     </td> <td>1   </td> <td>-122.385</td> <td>37.6173</td> <td>-122.421</td> <td>37.7905</td> <td>239   </td> <td>32    </td> <td>14.1204     </td>\n",
       "        </tr>\n",
       "    </tbody>\n",
       "        <tr>\n",
       "            <td>232  </td> <td>9/1/12 0:04   </td> <td>9/1/12 0:06  </td> <td>4.05    </td> <td>1   </td> <td>-122.459</td> <td>37.7837</td> <td>-122.456</td> <td>37.786 </td> <td>70    </td> <td>70    </td> <td>0           </td>\n",
       "        </tr>\n",
       "    </tbody>\n",
       "        <tr>\n",
       "            <td>693  </td> <td>9/1/12 1:14   </td> <td>9/1/12 1:16  </td> <td>4.05    </td> <td>1   </td> <td>-122.424</td> <td>37.7767</td> <td>-122.423</td> <td>37.7752</td> <td>79    </td> <td>79    </td> <td>0           </td>\n",
       "        </tr>\n",
       "    </tbody>\n",
       "        <tr>\n",
       "            <td>1126 </td> <td>9/1/12 7:20   </td> <td>9/1/12 7:22  </td> <td>4.05    </td> <td>1   </td> <td>-122.418</td> <td>37.7856</td> <td>-122.416</td> <td>37.7884</td> <td>0     </td> <td>31    </td> <td>0.184055    </td>\n",
       "        </tr>\n",
       "    </tbody>\n",
       "        <tr>\n",
       "            <td>2932 </td> <td>9/1/12 21:36  </td> <td>9/1/12 21:38 </td> <td>4.05    </td> <td>1   </td> <td>-122.407</td> <td>37.7849</td> <td>-122.409</td> <td>37.7855</td> <td>5     </td> <td>7     </td> <td>0.386467    </td>\n",
       "        </tr>\n",
       "    </tbody>\n",
       "        <tr>\n",
       "            <td>4289 </td> <td>9/1/12 19:20  </td> <td>9/1/12 19:22 </td> <td>4.05    </td> <td>1   </td> <td>-122.435</td> <td>37.7715</td> <td>-122.438</td> <td>37.7751</td> <td>84    </td> <td>85    </td> <td>0.291265    </td>\n",
       "        </tr>\n",
       "    </tbody>\n",
       "        <tr>\n",
       "            <td>4651 </td> <td>9/1/12 20:19  </td> <td>9/1/12 20:21 </td> <td>4.05    </td> <td>1   </td> <td>-122.422</td> <td>37.7648</td> <td>-122.421</td> <td>37.76  </td> <td>105   </td> <td>0     </td> <td>0.589304    </td>\n",
       "        </tr>\n",
       "    </tbody>\n",
       "</table>\n",
       "<p>... (46398 rows omitted)</p"
      ],
      "text/plain": [
       "id    | departure time | arrival time  | fare ($) | num  | dep lon  | dep lat | arr lon  | arr lat | deptaz | arrtaz | dist (miles)\n",
       "3969  | 9/1/12 21:16   | 9/1/12 21:18  | 3.5      | 1    | -122.405 | 37.7967 | -122.409 | 37.7998 | 24     | 37     | 0.481116\n",
       "5337  | 9/2/12 4:35    | 9/2/12 4:45   | 3.5      | 1    | -122.418 | 37.7854 | -122.438 | 37.7997 | 30     | 50     | 2.1023\n",
       "23876 | 9/8/12 1:20    | 9/8/12 1:31   | 3.5      | 1    | -122.44  | 37.8004 | -122.46  | 37.7856 | 50     | 66     | 1.94242\n",
       "44278 | 9/11/12 12:25  | 9/11/12 12:48 | 3.5      | 1    | -122.385 | 37.6173 | -122.421 | 37.7905 | 239    | 32     | 14.1204\n",
       "232   | 9/1/12 0:04    | 9/1/12 0:06   | 4.05     | 1    | -122.459 | 37.7837 | -122.456 | 37.786  | 70     | 70     | 0\n",
       "693   | 9/1/12 1:14    | 9/1/12 1:16   | 4.05     | 1    | -122.424 | 37.7767 | -122.423 | 37.7752 | 79     | 79     | 0\n",
       "1126  | 9/1/12 7:20    | 9/1/12 7:22   | 4.05     | 1    | -122.418 | 37.7856 | -122.416 | 37.7884 | 0      | 31     | 0.184055\n",
       "2932  | 9/1/12 21:36   | 9/1/12 21:38  | 4.05     | 1    | -122.407 | 37.7849 | -122.409 | 37.7855 | 5      | 7      | 0.386467\n",
       "4289  | 9/1/12 19:20   | 9/1/12 19:22  | 4.05     | 1    | -122.435 | 37.7715 | -122.438 | 37.7751 | 84     | 85     | 0.291265\n",
       "4651  | 9/1/12 20:19   | 9/1/12 20:21  | 4.05     | 1    | -122.422 | 37.7648 | -122.421 | 37.76   | 105    | 0      | 0.589304\n",
       "... (46398 rows omitted)"
      ]
     },
     "execution_count": 35,
     "metadata": {},
     "output_type": "execute_result"
    }
   ],
   "source": [
    "#filtered data\n",
    "sf_taxi=Table.read_table(\"SF_taxi_data.csv\")\n",
    "sf_taxi=sf_taxi.where(\"num\",1).sort(\"fare ($)\").exclude[:156]\n",
    "sf_taxi"
   ]
  },
  {
   "cell_type": "markdown",
   "metadata": {},
   "source": [
    "### Analysis 1"
   ]
  },
  {
   "cell_type": "code",
   "execution_count": 36,
   "metadata": {},
   "outputs": [
    {
     "data": {
      "image/png": "[encoded data removed]",
      "text/plain": [
       "<matplotlib.figure.Figure at 0x7f95895da860>"
      ]
     },
     "metadata": {},
     "output_type": "display_data"
    }
   ],
   "source": [
    "sf_taxi.select(\"fare ($)\", \"dist (miles)\").scatter(\"dist (miles)\", fit_line=True)"
   ]
  },
  {
   "cell_type": "code",
   "execution_count": 37,
   "metadata": {},
   "outputs": [
    {
     "data": {
      "text/plain": [
       "(3.3335992987211664, 5.0862618351484841)"
      ]
     },
     "execution_count": 37,
     "metadata": {},
     "output_type": "execute_result"
    }
   ],
   "source": [
    "x=sf_taxi.column(\"dist (miles)\")\n",
    "y=sf_taxi.column(\"fare ($)\")\n",
    "theta1 = np.sum(x*(y-np.mean(y)))/np.sum(x*(x-np.mean(x)))\n",
    "theta2 = -theta1*np.mean(x) + np.mean(y)\n",
    "theta1, theta2"
   ]
  },
  {
   "cell_type": "code",
   "execution_count": 38,
   "metadata": {},
   "outputs": [
    {
     "data": {
      "text/html": [
       "<table border=\"1\" class=\"dataframe\">\n",
       "    <thead>\n",
       "        <tr>\n",
       "            <th>distance</th> <th>fare ($)</th> <th>actual fare</th> <th>base fare</th>\n",
       "        </tr>\n",
       "    </thead>\n",
       "    <tbody>\n",
       "        <tr>\n",
       "            <td>0.481116</td> <td>3.5     </td> <td>6.69212    </td> <td>4.27307  </td>\n",
       "        </tr>\n",
       "    </tbody>\n",
       "        <tr>\n",
       "            <td>2.1023  </td> <td>3.5     </td> <td>12.0907    </td> <td>8.73134  </td>\n",
       "        </tr>\n",
       "    </tbody>\n",
       "        <tr>\n",
       "            <td>1.94242 </td> <td>3.5     </td> <td>11.5583    </td> <td>8.29165  </td>\n",
       "        </tr>\n",
       "    </tbody>\n",
       "        <tr>\n",
       "            <td>14.1204 </td> <td>3.5     </td> <td>52.1111    </td> <td>41.7812  </td>\n",
       "        </tr>\n",
       "    </tbody>\n",
       "        <tr>\n",
       "            <td>0       </td> <td>4.05    </td> <td>5.09       </td> <td>2.95     </td>\n",
       "        </tr>\n",
       "    </tbody>\n",
       "        <tr>\n",
       "            <td>0       </td> <td>4.05    </td> <td>5.09       </td> <td>2.95     </td>\n",
       "        </tr>\n",
       "    </tbody>\n",
       "        <tr>\n",
       "            <td>0.184055</td> <td>4.05    </td> <td>5.7029     </td> <td>3.45615  </td>\n",
       "        </tr>\n",
       "    </tbody>\n",
       "        <tr>\n",
       "            <td>0.386467</td> <td>4.05    </td> <td>6.37693    </td> <td>4.01278  </td>\n",
       "        </tr>\n",
       "    </tbody>\n",
       "        <tr>\n",
       "            <td>0.291265</td> <td>4.05    </td> <td>6.05991    </td> <td>3.75098  </td>\n",
       "        </tr>\n",
       "    </tbody>\n",
       "        <tr>\n",
       "            <td>0.589304</td> <td>4.05    </td> <td>7.05238    </td> <td>4.57059  </td>\n",
       "        </tr>\n",
       "    </tbody>\n",
       "</table>\n",
       "<p>... (46398 rows omitted)</p"
      ],
      "text/plain": [
       "distance | fare ($) | actual fare | base fare\n",
       "0.481116 | 3.5      | 6.69212     | 4.27307\n",
       "2.1023   | 3.5      | 12.0907     | 8.73134\n",
       "1.94242  | 3.5      | 11.5583     | 8.29165\n",
       "14.1204  | 3.5      | 52.1111     | 41.7812\n",
       "0        | 4.05     | 5.09        | 2.95\n",
       "0        | 4.05     | 5.09        | 2.95\n",
       "0.184055 | 4.05     | 5.7029      | 3.45615\n",
       "0.386467 | 4.05     | 6.37693     | 4.01278\n",
       "0.291265 | 4.05     | 6.05991     | 3.75098\n",
       "0.589304 | 4.05     | 7.05238     | 4.57059\n",
       "... (46398 rows omitted)"
      ]
     },
     "execution_count": 38,
     "metadata": {},
     "output_type": "execute_result"
    }
   ],
   "source": [
    "#base fare relationship is given by equation in analysis 1\n",
    "#actual fare relationship is of distance and the fare data given above\n",
    "dist=sf_taxi.column(\"dist (miles)\")\n",
    "actual_fare_relationship=3.33*dist+5.09\n",
    "base_fare_relationship=2.75*dist+2.95\n",
    "t=Table().with_column(\"distance\",dist,\"fare ($)\",sf_taxi.column(\"fare ($)\"),\"actual fare\",actual_fare_relationship,\"base fare\",base_fare_relationship)\n",
    "t"
   ]
  },
  {
   "cell_type": "code",
   "execution_count": 39,
   "metadata": {},
   "outputs": [
    {
     "data": {
      "text/plain": [
       "<matplotlib.legend.Legend at 0x7f9583e25358>"
      ]
     },
     "execution_count": 39,
     "metadata": {},
     "output_type": "execute_result"
    },
    {
     "data": {
      "image/png": "[encoded data removed]",
      "text/plain": [
       "<matplotlib.figure.Figure at 0x7f95895da978>"
      ]
     },
     "metadata": {},
     "output_type": "display_data"
    }
   ],
   "source": [
    "#yellow line is linear regression line of fares\n",
    "#shows that base fare equation is more a minimum than an accurate estimate of the total fare\n",
    "t.scatter(\"distance\")\n",
    "plt.legend([\"fare ($)\", \"fare ($) relationship\", \"base fare relationship\"])"
   ]
  },
  {
   "cell_type": "markdown",
   "metadata": {},
   "source": [
    "### Analysis 2"
   ]
  },
  {
   "cell_type": "code",
   "execution_count": 40,
   "metadata": {},
   "outputs": [],
   "source": [
    "sfo_taz=sf_taxi.group(\"deptaz\").sort(\"count\",descending=True).take(0).column(0).item(0)\n",
    "taxi_sfo = sf_taxi.where(\"arrtaz\", are.equal_to(sfo_taz)).append(sf_taxi.where(\"deptaz\", are.equal_to(sfo_taz)))\n",
    "#.where(\"deptaz\", are.equal_to(sfo_taz))\n",
    "taxi_non_sfo = sf_taxi.where(\"arrtaz\", are.not_equal_to(sfo_taz)).where(\"deptaz\", are.not_equal_to(sfo_taz))\n"
   ]
  },
  {
   "cell_type": "code",
   "execution_count": 41,
   "metadata": {},
   "outputs": [
    {
     "data": {
      "text/html": [
       "<table border=\"1\" class=\"dataframe\">\n",
       "    <thead>\n",
       "        <tr>\n",
       "            <th>id</th> <th>departure time</th> <th>arrival time</th> <th>fare ($)</th> <th>num</th> <th>dep lon</th> <th>dep lat</th> <th>arr lon</th> <th>arr lat</th> <th>deptaz</th> <th>arrtaz</th> <th>dist (miles)</th>\n",
       "        </tr>\n",
       "    </thead>\n",
       "    <tbody>\n",
       "        <tr>\n",
       "            <td>27215</td> <td>9/10/12 7:48  </td> <td>9/10/12 7:50 </td> <td>4.05    </td> <td>1   </td> <td>-122.385</td> <td>37.6177</td> <td>-122.401</td> <td>37.6245</td> <td>239   </td> <td>239   </td> <td>0           </td>\n",
       "        </tr>\n",
       "    </tbody>\n",
       "        <tr>\n",
       "            <td>13611</td> <td>9/4/12 22:27  </td> <td>9/4/12 22:30 </td> <td>6.8     </td> <td>1   </td> <td>-122.39 </td> <td>37.6152</td> <td>-122.387</td> <td>37.6177</td> <td>239   </td> <td>239   </td> <td>0           </td>\n",
       "        </tr>\n",
       "    </tbody>\n",
       "        <tr>\n",
       "            <td>49227</td> <td>9/14/12 7:49  </td> <td>9/14/12 7:54 </td> <td>6.8     </td> <td>1   </td> <td>-122.387</td> <td>37.6176</td> <td>-122.385</td> <td>37.6175</td> <td>239   </td> <td>239   </td> <td>0           </td>\n",
       "        </tr>\n",
       "    </tbody>\n",
       "        <tr>\n",
       "            <td>46721</td> <td>9/13/12 9:34  </td> <td>9/13/12 9:37 </td> <td>8.25    </td> <td>1   </td> <td>-122.387</td> <td>37.6179</td> <td>-122.39 </td> <td>37.6152</td> <td>239   </td> <td>239   </td> <td>0           </td>\n",
       "        </tr>\n",
       "    </tbody>\n",
       "        <tr>\n",
       "            <td>11566</td> <td>9/3/12 13:45  </td> <td>9/3/12 13:49 </td> <td>10.65   </td> <td>1   </td> <td>-122.404</td> <td>37.635 </td> <td>-122.388</td> <td>37.6176</td> <td>238   </td> <td>239   </td> <td>2.04926     </td>\n",
       "        </tr>\n",
       "    </tbody>\n",
       "        <tr>\n",
       "            <td>37245</td> <td>9/11/12 5:49  </td> <td>9/11/12 6:04 </td> <td>11.75   </td> <td>1   </td> <td>-122.405</td> <td>37.7854</td> <td>-122.386</td> <td>37.6147</td> <td>12    </td> <td>239   </td> <td>13.8379     </td>\n",
       "        </tr>\n",
       "    </tbody>\n",
       "        <tr>\n",
       "            <td>22465</td> <td>9/8/12 13:15  </td> <td>9/8/12 13:25 </td> <td>12.1    </td> <td>1   </td> <td>-122.384</td> <td>37.6171</td> <td>-122.387</td> <td>37.6174</td> <td>239   </td> <td>239   </td> <td>0           </td>\n",
       "        </tr>\n",
       "    </tbody>\n",
       "        <tr>\n",
       "            <td>30486</td> <td>9/7/12 22:42  </td> <td>9/7/12 22:47 </td> <td>12.1    </td> <td>1   </td> <td>-122.387</td> <td>37.6177</td> <td>-122.401</td> <td>37.6344</td> <td>239   </td> <td>239   </td> <td>0           </td>\n",
       "        </tr>\n",
       "    </tbody>\n",
       "        <tr>\n",
       "            <td>42339</td> <td>9/10/12 10:05 </td> <td>9/10/12 10:11</td> <td>13.95   </td> <td>1   </td> <td>-122.418</td> <td>37.6318</td> <td>-122.384</td> <td>37.6167</td> <td>237   </td> <td>239   </td> <td>2.43343     </td>\n",
       "        </tr>\n",
       "    </tbody>\n",
       "        <tr>\n",
       "            <td>48864</td> <td>9/16/12 18:39 </td> <td>9/16/12 18:46</td> <td>14.3    </td> <td>1   </td> <td>-122.385</td> <td>37.6152</td> <td>-122.401</td> <td>37.6272</td> <td>239   </td> <td>239   </td> <td>0           </td>\n",
       "        </tr>\n",
       "    </tbody>\n",
       "        <tr>\n",
       "            <td>49048</td> <td>9/16/12 18:33 </td> <td>9/16/12 18:42</td> <td>14.85   </td> <td>1   </td> <td>-122.385</td> <td>37.6156</td> <td>-122.401</td> <td>37.6272</td> <td>239   </td> <td>239   </td> <td>0           </td>\n",
       "        </tr>\n",
       "    </tbody>\n",
       "        <tr>\n",
       "            <td>48664</td> <td>9/16/12 18:31 </td> <td>9/16/12 18:38</td> <td>15.2    </td> <td>1   </td> <td>-122.387</td> <td>37.6174</td> <td>-122.4  </td> <td>37.6272</td> <td>239   </td> <td>239   </td> <td>0           </td>\n",
       "        </tr>\n",
       "    </tbody>\n",
       "        <tr>\n",
       "            <td>29674</td> <td>9/10/12 7:21  </td> <td>9/10/12 7:45 </td> <td>16.15   </td> <td>1   </td> <td>-122.435</td> <td>37.7529</td> <td>-122.384</td> <td>37.6165</td> <td>95    </td> <td>239   </td> <td>12.7325     </td>\n",
       "        </tr>\n",
       "    </tbody>\n",
       "        <tr>\n",
       "            <td>1693 </td> <td>9/1/12 5:01   </td> <td>9/1/12 5:07  </td> <td>16.7    </td> <td>1   </td> <td>-122.398</td> <td>37.6644</td> <td>-122.384</td> <td>37.6172</td> <td>212   </td> <td>239   </td> <td>3.45457     </td>\n",
       "        </tr>\n",
       "    </tbody>\n",
       "        <tr>\n",
       "            <td>22377</td> <td>9/6/12 20:02  </td> <td>9/6/12 20:22 </td> <td>16.7    </td> <td>1   </td> <td>-122.418</td> <td>37.7843</td> <td>-122.385</td> <td>37.6152</td> <td>30    </td> <td>239   </td> <td>13.7442     </td>\n",
       "        </tr>\n",
       "    </tbody>\n",
       "        <tr>\n",
       "            <td>30488</td> <td>9/10/12 17:50 </td> <td>9/10/12 18:03</td> <td>22.75   </td> <td>1   </td> <td>-122.385</td> <td>37.6283</td> <td>-122.39 </td> <td>37.6151</td> <td>239   </td> <td>239   </td> <td>0           </td>\n",
       "        </tr>\n",
       "    </tbody>\n",
       "        <tr>\n",
       "            <td>42844</td> <td>9/12/12 13:19 </td> <td>9/12/12 13:32</td> <td>24.2    </td> <td>1   </td> <td>-122.39 </td> <td>37.6154</td> <td>-122.395</td> <td>37.613 </td> <td>239   </td> <td>239   </td> <td>0           </td>\n",
       "        </tr>\n",
       "    </tbody>\n",
       "        <tr>\n",
       "            <td>33311</td> <td>9/10/12 17:40 </td> <td>9/10/12 17:48</td> <td>25      </td> <td>1   </td> <td>-122.387</td> <td>37.6175</td> <td>-122.385</td> <td>37.6282</td> <td>239   </td> <td>239   </td> <td>0           </td>\n",
       "        </tr>\n",
       "    </tbody>\n",
       "        <tr>\n",
       "            <td>6393 </td> <td>9/2/12 10:50  </td> <td>9/2/12 11:00 </td> <td>25.5    </td> <td>1   </td> <td>-122.384</td> <td>37.7157</td> <td>-122.401</td> <td>37.6276</td> <td>149   </td> <td>239   </td> <td>8.2967      </td>\n",
       "        </tr>\n",
       "    </tbody>\n",
       "        <tr>\n",
       "            <td>42299</td> <td>9/9/12 16:20  </td> <td>9/9/12 16:38 </td> <td>25.5    </td> <td>1   </td> <td>-122.39 </td> <td>37.6153</td> <td>-122.387</td> <td>37.6178</td> <td>239   </td> <td>239   </td> <td>0           </td>\n",
       "        </tr>\n",
       "    </tbody>\n",
       "</table>\n",
       "<p>... (6027 rows omitted)</p"
      ],
      "text/plain": [
       "<IPython.core.display.HTML object>"
      ]
     },
     "metadata": {},
     "output_type": "display_data"
    }
   ],
   "source": [
    "taxi_sfo.show(20)"
   ]
  },
  {
   "cell_type": "code",
   "execution_count": 42,
   "metadata": {},
   "outputs": [
    {
     "data": {
      "text/plain": [
       "49.202554985943436"
      ]
     },
     "execution_count": 42,
     "metadata": {},
     "output_type": "execute_result"
    }
   ],
   "source": [
    "#avg of fares\n",
    "np.mean(taxi_sfo.column(\"fare ($)\"))"
   ]
  },
  {
   "cell_type": "code",
   "execution_count": 43,
   "metadata": {},
   "outputs": [
    {
     "data": {
      "text/plain": [
       "13.594545076260808"
      ]
     },
     "execution_count": 43,
     "metadata": {},
     "output_type": "execute_result"
    }
   ],
   "source": [
    "#avg distance involving sfo\n",
    "np.mean(taxi_sfo.column(\"dist (miles)\"))"
   ]
  },
  {
   "cell_type": "code",
   "execution_count": 44,
   "metadata": {},
   "outputs": [
    {
     "data": {
      "text/plain": [
       "80.845294134315594"
      ]
     },
     "execution_count": 44,
     "metadata": {},
     "output_type": "execute_result"
    }
   ],
   "source": [
    "#max distance\n",
    "max(taxi_sfo.column(\"dist (miles)\"))"
   ]
  },
  {
   "cell_type": "code",
   "execution_count": 45,
   "metadata": {},
   "outputs": [
    {
     "data": {
      "image/png": "[encoded data removed]",
      "text/plain": [
       "<matplotlib.figure.Figure at 0x7f9584a8a240>"
      ]
     },
     "metadata": {},
     "output_type": "display_data"
    }
   ],
   "source": [
    "taxi_sfo.select(\"fare ($)\",\"dist (miles)\").scatter(\"dist (miles)\")"
   ]
  },
  {
   "cell_type": "code",
   "execution_count": 46,
   "metadata": {},
   "outputs": [
    {
     "data": {
      "text/html": [
       "<table border=\"1\" class=\"dataframe\">\n",
       "    <thead>\n",
       "        <tr>\n",
       "            <th>id</th> <th>departure time</th> <th>arrival time</th> <th>fare ($)</th> <th>num</th> <th>dep lon</th> <th>dep lat</th> <th>arr lon</th> <th>arr lat</th> <th>deptaz</th> <th>arrtaz</th> <th>dist (miles)</th>\n",
       "        </tr>\n",
       "    </thead>\n",
       "    <tbody>\n",
       "        <tr>\n",
       "            <td>3969 </td> <td>9/1/12 21:16  </td> <td>9/1/12 21:18</td> <td>3.5     </td> <td>1   </td> <td>-122.405</td> <td>37.7967</td> <td>-122.409</td> <td>37.7998</td> <td>24    </td> <td>37    </td> <td>0.481116    </td>\n",
       "        </tr>\n",
       "    </tbody>\n",
       "        <tr>\n",
       "            <td>5337 </td> <td>9/2/12 4:35   </td> <td>9/2/12 4:45 </td> <td>3.5     </td> <td>1   </td> <td>-122.418</td> <td>37.7854</td> <td>-122.438</td> <td>37.7997</td> <td>30    </td> <td>50    </td> <td>2.1023      </td>\n",
       "        </tr>\n",
       "    </tbody>\n",
       "        <tr>\n",
       "            <td>23876</td> <td>9/8/12 1:20   </td> <td>9/8/12 1:31 </td> <td>3.5     </td> <td>1   </td> <td>-122.44 </td> <td>37.8004</td> <td>-122.46 </td> <td>37.7856</td> <td>50    </td> <td>66    </td> <td>1.94242     </td>\n",
       "        </tr>\n",
       "    </tbody>\n",
       "        <tr>\n",
       "            <td>232  </td> <td>9/1/12 0:04   </td> <td>9/1/12 0:06 </td> <td>4.05    </td> <td>1   </td> <td>-122.459</td> <td>37.7837</td> <td>-122.456</td> <td>37.786 </td> <td>70    </td> <td>70    </td> <td>0           </td>\n",
       "        </tr>\n",
       "    </tbody>\n",
       "        <tr>\n",
       "            <td>693  </td> <td>9/1/12 1:14   </td> <td>9/1/12 1:16 </td> <td>4.05    </td> <td>1   </td> <td>-122.424</td> <td>37.7767</td> <td>-122.423</td> <td>37.7752</td> <td>79    </td> <td>79    </td> <td>0           </td>\n",
       "        </tr>\n",
       "    </tbody>\n",
       "        <tr>\n",
       "            <td>1126 </td> <td>9/1/12 7:20   </td> <td>9/1/12 7:22 </td> <td>4.05    </td> <td>1   </td> <td>-122.418</td> <td>37.7856</td> <td>-122.416</td> <td>37.7884</td> <td>0     </td> <td>31    </td> <td>0.184055    </td>\n",
       "        </tr>\n",
       "    </tbody>\n",
       "        <tr>\n",
       "            <td>2932 </td> <td>9/1/12 21:36  </td> <td>9/1/12 21:38</td> <td>4.05    </td> <td>1   </td> <td>-122.407</td> <td>37.7849</td> <td>-122.409</td> <td>37.7855</td> <td>5     </td> <td>7     </td> <td>0.386467    </td>\n",
       "        </tr>\n",
       "    </tbody>\n",
       "        <tr>\n",
       "            <td>4289 </td> <td>9/1/12 19:20  </td> <td>9/1/12 19:22</td> <td>4.05    </td> <td>1   </td> <td>-122.435</td> <td>37.7715</td> <td>-122.438</td> <td>37.7751</td> <td>84    </td> <td>85    </td> <td>0.291265    </td>\n",
       "        </tr>\n",
       "    </tbody>\n",
       "        <tr>\n",
       "            <td>4651 </td> <td>9/1/12 20:19  </td> <td>9/1/12 20:21</td> <td>4.05    </td> <td>1   </td> <td>-122.422</td> <td>37.7648</td> <td>-122.421</td> <td>37.76  </td> <td>105   </td> <td>0     </td> <td>0.589304    </td>\n",
       "        </tr>\n",
       "    </tbody>\n",
       "        <tr>\n",
       "            <td>4988 </td> <td>9/2/12 0:53   </td> <td>9/2/12 0:55 </td> <td>4.05    </td> <td>1   </td> <td>-122.419</td> <td>37.7526</td> <td>-122.421</td> <td>37.7521</td> <td>100   </td> <td>100   </td> <td>0           </td>\n",
       "        </tr>\n",
       "    </tbody>\n",
       "</table>\n",
       "<p>... (40370 rows omitted)</p"
      ],
      "text/plain": [
       "id    | departure time | arrival time | fare ($) | num  | dep lon  | dep lat | arr lon  | arr lat | deptaz | arrtaz | dist (miles)\n",
       "3969  | 9/1/12 21:16   | 9/1/12 21:18 | 3.5      | 1    | -122.405 | 37.7967 | -122.409 | 37.7998 | 24     | 37     | 0.481116\n",
       "5337  | 9/2/12 4:35    | 9/2/12 4:45  | 3.5      | 1    | -122.418 | 37.7854 | -122.438 | 37.7997 | 30     | 50     | 2.1023\n",
       "23876 | 9/8/12 1:20    | 9/8/12 1:31  | 3.5      | 1    | -122.44  | 37.8004 | -122.46  | 37.7856 | 50     | 66     | 1.94242\n",
       "232   | 9/1/12 0:04    | 9/1/12 0:06  | 4.05     | 1    | -122.459 | 37.7837 | -122.456 | 37.786  | 70     | 70     | 0\n",
       "693   | 9/1/12 1:14    | 9/1/12 1:16  | 4.05     | 1    | -122.424 | 37.7767 | -122.423 | 37.7752 | 79     | 79     | 0\n",
       "1126  | 9/1/12 7:20    | 9/1/12 7:22  | 4.05     | 1    | -122.418 | 37.7856 | -122.416 | 37.7884 | 0      | 31     | 0.184055\n",
       "2932  | 9/1/12 21:36   | 9/1/12 21:38 | 4.05     | 1    | -122.407 | 37.7849 | -122.409 | 37.7855 | 5      | 7      | 0.386467\n",
       "4289  | 9/1/12 19:20   | 9/1/12 19:22 | 4.05     | 1    | -122.435 | 37.7715 | -122.438 | 37.7751 | 84     | 85     | 0.291265\n",
       "4651  | 9/1/12 20:19   | 9/1/12 20:21 | 4.05     | 1    | -122.422 | 37.7648 | -122.421 | 37.76   | 105    | 0      | 0.589304\n",
       "4988  | 9/2/12 0:53    | 9/2/12 0:55  | 4.05     | 1    | -122.419 | 37.7526 | -122.421 | 37.7521 | 100    | 100    | 0\n",
       "... (40370 rows omitted)"
      ]
     },
     "execution_count": 46,
     "metadata": {},
     "output_type": "execute_result"
    }
   ],
   "source": [
    "taxi_non_sfo"
   ]
  },
  {
   "cell_type": "code",
   "execution_count": 47,
   "metadata": {},
   "outputs": [
    {
     "data": {
      "text/plain": [
       "12.420279346210995"
      ]
     },
     "execution_count": 47,
     "metadata": {},
     "output_type": "execute_result"
    }
   ],
   "source": [
    "#avg fare\n",
    "np.mean(taxi_non_sfo.column(\"fare ($)\"))"
   ]
  },
  {
   "cell_type": "code",
   "execution_count": 48,
   "metadata": {},
   "outputs": [
    {
     "data": {
      "text/plain": [
       "2.1417872291614484"
      ]
     },
     "execution_count": 48,
     "metadata": {},
     "output_type": "execute_result"
    }
   ],
   "source": [
    "#avg distance\n",
    "np.mean(taxi_non_sfo.column(\"dist (miles)\"))"
   ]
  },
  {
   "cell_type": "code",
   "execution_count": 49,
   "metadata": {},
   "outputs": [
    {
     "data": {
      "text/plain": [
       "51.650002908779143"
      ]
     },
     "execution_count": 49,
     "metadata": {},
     "output_type": "execute_result"
    }
   ],
   "source": [
    "#max distance\n",
    "max(taxi_non_sfo.column(\"dist (miles)\"))"
   ]
  },
  {
   "cell_type": "code",
   "execution_count": 50,
   "metadata": {},
   "outputs": [
    {
     "data": {
      "image/png": "[encoded data removed]",
      "text/plain": [
       "<matplotlib.figure.Figure at 0x7f9584a8f3c8>"
      ]
     },
     "metadata": {},
     "output_type": "display_data"
    }
   ],
   "source": [
    "taxi_non_sfo.select(\"fare ($)\", \"dist (miles)\").scatter(\"dist (miles)\")"
   ]
  },
  {
   "cell_type": "markdown",
   "metadata": {},
   "source": [
    "### Analysis 3"
   ]
  },
  {
   "cell_type": "code",
   "execution_count": 51,
   "metadata": {},
   "outputs": [],
   "source": [
    "#m=sf_taxi.column(\"dist (miles)\")\n",
    "#actual_fare=sf_taxi.column(\"fare ($)\")\n",
    "#f=3.5+0.55*(5*m-1)\n",
    "#f-actual_fare"
   ]
  },
  {
   "cell_type": "code",
   "execution_count": 52,
   "metadata": {},
   "outputs": [],
   "source": [
    "import datetime\n",
    " \n",
    "def get_hour(s): \n",
    "    return datetime.datetime.strptime(s, \"%m/%d/%y %H:%M\").hour\n",
    " \n",
    "def get_date(s): \n",
    "    return datetime.datetime.strptime(s, \"%m/%d/%y %H:%M\").date()\n",
    " \n",
    "def get_weekday(s): # 0 = Monday - 6= Sunday\n",
    "    return datetime.datetime.strptime(s, \"%m/%d/%y %H:%M\").date().weekday()\n",
    " \n",
    "def get_dur(start,finish): \n",
    "    start_time = datetime.datetime.strptime(start, \"%m/%d/%y %H:%M\")\n",
    "    end_time = datetime.datetime.strptime(finish, \"%m/%d/%y %H:%M\")\n",
    "    return (end_time-start_time).seconds/60."
   ]
  },
  {
   "cell_type": "code",
   "execution_count": 53,
   "metadata": {},
   "outputs": [
    {
     "data": {
      "text/html": [
       "<table border=\"1\" class=\"dataframe\">\n",
       "    <thead>\n",
       "        <tr>\n",
       "            <th>dist (miles)</th> <th>fare ($)</th> <th>base fare ($)</th> <th>extra fare ($)</th> <th>extra fare predictions</th>\n",
       "        </tr>\n",
       "    </thead>\n",
       "    <tbody>\n",
       "        <tr>\n",
       "            <td>14.1204     </td> <td>3.5     </td> <td>41.7812      </td> <td>-38.2812      </td> <td>10.0956               </td>\n",
       "        </tr>\n",
       "    </tbody>\n",
       "        <tr>\n",
       "            <td>0.688177    </td> <td>4.05    </td> <td>4.84249      </td> <td>-0.792487     </td> <td>2.53701               </td>\n",
       "        </tr>\n",
       "    </tbody>\n",
       "        <tr>\n",
       "            <td>0.33726     </td> <td>4.05    </td> <td>3.87747      </td> <td>0.172534      </td> <td>2.33954               </td>\n",
       "        </tr>\n",
       "    </tbody>\n",
       "        <tr>\n",
       "            <td>0.693927    </td> <td>4.05    </td> <td>4.8583       </td> <td>-0.808299     </td> <td>2.54024               </td>\n",
       "        </tr>\n",
       "    </tbody>\n",
       "        <tr>\n",
       "            <td>0           </td> <td>4.05    </td> <td>2.95         </td> <td>1.1           </td> <td>2.14975               </td>\n",
       "        </tr>\n",
       "    </tbody>\n",
       "        <tr>\n",
       "            <td>0.447954    </td> <td>4.05    </td> <td>4.18187      </td> <td>-0.131874     </td> <td>2.40183               </td>\n",
       "        </tr>\n",
       "    </tbody>\n",
       "        <tr>\n",
       "            <td>0.2672      </td> <td>4.05    </td> <td>3.6848       </td> <td>0.3652        </td> <td>2.30011               </td>\n",
       "        </tr>\n",
       "    </tbody>\n",
       "        <tr>\n",
       "            <td>0           </td> <td>4.05    </td> <td>2.95         </td> <td>1.1           </td> <td>2.14975               </td>\n",
       "        </tr>\n",
       "    </tbody>\n",
       "        <tr>\n",
       "            <td>0           </td> <td>4.05    </td> <td>2.95         </td> <td>1.1           </td> <td>2.14975               </td>\n",
       "        </tr>\n",
       "    </tbody>\n",
       "        <tr>\n",
       "            <td>0.193274    </td> <td>4.05    </td> <td>3.4815       </td> <td>0.568495      </td> <td>2.25851               </td>\n",
       "        </tr>\n",
       "    </tbody>\n",
       "</table>\n",
       "<p>... (12143 rows omitted)</p"
      ],
      "text/plain": [
       "dist (miles) | fare ($) | base fare ($) | extra fare ($) | extra fare predictions\n",
       "14.1204      | 3.5      | 41.7812       | -38.2812       | 10.0956\n",
       "0.688177     | 4.05     | 4.84249       | -0.792487      | 2.53701\n",
       "0.33726      | 4.05     | 3.87747       | 0.172534       | 2.33954\n",
       "0.693927     | 4.05     | 4.8583        | -0.808299      | 2.54024\n",
       "0            | 4.05     | 2.95          | 1.1            | 2.14975\n",
       "0.447954     | 4.05     | 4.18187       | -0.131874      | 2.40183\n",
       "0.2672       | 4.05     | 3.6848        | 0.3652         | 2.30011\n",
       "0            | 4.05     | 2.95          | 1.1            | 2.14975\n",
       "0            | 4.05     | 2.95          | 1.1            | 2.14975\n",
       "0.193274     | 4.05     | 3.4815        | 0.568495       | 2.25851\n",
       "... (12143 rows omitted)"
      ]
     },
     "execution_count": 53,
     "metadata": {},
     "output_type": "execute_result"
    }
   ],
   "source": [
    "#base fare=2.75x + 2.95\n",
    "#actual fare estimate=3.33x + 5.09 (from analysis 1)\n",
    "dates=sf_taxi.select(\"departure time\").apply(lambda x: get_date(x[0]))\n",
    "training=sf_taxi.with_column(\"dates\", dates).where(\"dates\", are.between(datetime.date(2012, 9, 1), datetime.date(2012, 9, 11)))\n",
    "testing=sf_taxi.with_column(\"dates\", dates).where(\"dates\", are.between(datetime.date(2012, 9, 11), datetime.date(2012, 9, 18)))\n",
    "\n",
    "training_distance = training.column(\"dist (miles)\")\n",
    "fare_train = training.column(\"fare ($)\")\n",
    "base_fare_train = (2.75 * training_distance) + 2.95\n",
    "extra_fare_train = fare_train - base_fare_train\n",
    "extra = training.select(\"dist (miles)\", \"fare ($)\").with_column(\"base fare ($)\", base_fare_train, \"extra fare ($)\", extra_fare_train)\n",
    "extra\n",
    "\n",
    "\n",
    "d=training_distance\n",
    "e=extra_fare_train\n",
    "theta1 = np.sum(d*(e-np.mean(e)))/np.sum(d*(d-np.mean(d)))\n",
    "theta2 = -theta1 * np.mean(d) + np.mean(e)\n",
    "theta1, theta2\n",
    "# Relationship between extra fare and distance=0.563x + 2.150\n",
    "\n",
    "testing_distance = testing.column(\"dist (miles)\")\n",
    "fare_test = testing.column(\"fare ($)\")\n",
    "base_fare_test = (2.75 * testing_distance) + 2.95\n",
    "extra_fare_test = fare_test - base_fare_test\n",
    "extra2 = testing.select(\"dist (miles)\", \"fare ($)\").with_column(\"base fare ($)\", base_fare_test, \"extra fare ($)\", extra_fare_test)\n",
    "extra2\n",
    "extra_fare_pred = theta1 * testing_distance + theta2\n",
    "extra_fare_pred\n",
    "extra2_with_pred=extra2.with_column(\"extra fare predictions\", extra_fare_pred)\n",
    "extra2_with_pred"
   ]
  },
  {
   "cell_type": "code",
   "execution_count": 54,
   "metadata": {},
   "outputs": [
    {
     "data": {
      "text/plain": [
       "26.690733155169937"
      ]
     },
     "execution_count": 54,
     "metadata": {},
     "output_type": "execute_result"
    }
   ],
   "source": [
    "#least squared error\n",
    "LSE = (1/extra2.num_rows)*(np.sum((extra2_with_pred.column(\"extra fare ($)\")-extra2_with_pred.column(\"extra fare predictions\"))**2))\n",
    "LSE\n"
   ]
  },
  {
   "cell_type": "markdown",
   "metadata": {},
   "source": [
    "### Analysis 4"
   ]
  },
  {
   "cell_type": "code",
   "execution_count": 55,
   "metadata": {},
   "outputs": [
    {
     "data": {
      "text/html": [
       "<table border=\"1\" class=\"dataframe\">\n",
       "    <thead>\n",
       "        <tr>\n",
       "            <th>dist (miles)</th> <th>fare ($)</th> <th>duration</th> <th>extra fare duration</th> <th>base fare ($)</th> <th>extra fare ($)</th> <th>extra fare predictions</th>\n",
       "        </tr>\n",
       "    </thead>\n",
       "    <tbody>\n",
       "        <tr>\n",
       "            <td>14.1204     </td> <td>3.5     </td> <td>23      </td> <td>10.0003            </td> <td>41.7812      </td> <td>-38.2812      </td> <td>10.0956               </td>\n",
       "        </tr>\n",
       "    </tbody>\n",
       "        <tr>\n",
       "            <td>0.688177    </td> <td>4.05    </td> <td>2       </td> <td>-0.313351          </td> <td>4.84249      </td> <td>-0.792487     </td> <td>2.53701               </td>\n",
       "        </tr>\n",
       "    </tbody>\n",
       "        <tr>\n",
       "            <td>0.33726     </td> <td>4.05    </td> <td>2       </td> <td>-0.313351          </td> <td>3.87747      </td> <td>0.172534      </td> <td>2.33954               </td>\n",
       "        </tr>\n",
       "    </tbody>\n",
       "        <tr>\n",
       "            <td>0.693927    </td> <td>4.05    </td> <td>2       </td> <td>-0.313351          </td> <td>4.8583       </td> <td>-0.808299     </td> <td>2.54024               </td>\n",
       "        </tr>\n",
       "    </tbody>\n",
       "        <tr>\n",
       "            <td>0           </td> <td>4.05    </td> <td>2       </td> <td>-0.313351          </td> <td>2.95         </td> <td>1.1           </td> <td>2.14975               </td>\n",
       "        </tr>\n",
       "    </tbody>\n",
       "        <tr>\n",
       "            <td>0.447954    </td> <td>4.05    </td> <td>2       </td> <td>-0.313351          </td> <td>4.18187      </td> <td>-0.131874     </td> <td>2.40183               </td>\n",
       "        </tr>\n",
       "    </tbody>\n",
       "        <tr>\n",
       "            <td>0.2672      </td> <td>4.05    </td> <td>2       </td> <td>-0.313351          </td> <td>3.6848       </td> <td>0.3652        </td> <td>2.30011               </td>\n",
       "        </tr>\n",
       "    </tbody>\n",
       "        <tr>\n",
       "            <td>0           </td> <td>4.05    </td> <td>2       </td> <td>-0.313351          </td> <td>2.95         </td> <td>1.1           </td> <td>2.14975               </td>\n",
       "        </tr>\n",
       "    </tbody>\n",
       "        <tr>\n",
       "            <td>0           </td> <td>4.05    </td> <td>2       </td> <td>-0.313351          </td> <td>2.95         </td> <td>1.1           </td> <td>2.14975               </td>\n",
       "        </tr>\n",
       "    </tbody>\n",
       "        <tr>\n",
       "            <td>0.193274    </td> <td>4.05    </td> <td>2       </td> <td>-0.313351          </td> <td>3.4815       </td> <td>0.568495      </td> <td>2.25851               </td>\n",
       "        </tr>\n",
       "    </tbody>\n",
       "</table>\n",
       "<p>... (12143 rows omitted)</p"
      ],
      "text/plain": [
       "dist (miles) | fare ($) | duration | extra fare duration | base fare ($) | extra fare ($) | extra fare predictions\n",
       "14.1204      | 3.5      | 23       | 10.0003             | 41.7812       | -38.2812       | 10.0956\n",
       "0.688177     | 4.05     | 2        | -0.313351           | 4.84249       | -0.792487      | 2.53701\n",
       "0.33726      | 4.05     | 2        | -0.313351           | 3.87747       | 0.172534       | 2.33954\n",
       "0.693927     | 4.05     | 2        | -0.313351           | 4.8583        | -0.808299      | 2.54024\n",
       "0            | 4.05     | 2        | -0.313351           | 2.95          | 1.1            | 2.14975\n",
       "0.447954     | 4.05     | 2        | -0.313351           | 4.18187       | -0.131874      | 2.40183\n",
       "0.2672       | 4.05     | 2        | -0.313351           | 3.6848        | 0.3652         | 2.30011\n",
       "0            | 4.05     | 2        | -0.313351           | 2.95          | 1.1            | 2.14975\n",
       "0            | 4.05     | 2        | -0.313351           | 2.95          | 1.1            | 2.14975\n",
       "0.193274     | 4.05     | 2        | -0.313351           | 3.4815        | 0.568495       | 2.25851\n",
       "... (12143 rows omitted)"
      ]
     },
     "execution_count": 55,
     "metadata": {},
     "output_type": "execute_result"
    }
   ],
   "source": [
    "dates=sf_taxi.select(\"departure time\").apply(lambda x: get_date(x[0]))\n",
    "training=sf_taxi.with_column(\"dates\", dates).where(\"dates\", are.between(datetime.date(2012, 9, 1), datetime.date(2012, 9, 11)))\n",
    "testing=sf_taxi.with_column(\"dates\", dates).where(\"dates\", are.between(datetime.date(2012, 9, 11), datetime.date(2012, 9, 18)))\n",
    "train_pandas = training.to_df()\n",
    "test_pandas = testing.to_df()\n",
    "#print(train_pandas)\n",
    "train_pandas['duration'] = train_pandas.apply(lambda row: get_dur(row['departure time'], row['arrival time']), axis=1)\n",
    "\n",
    "test_pandas['duration'] = test_pandas.apply(lambda row: get_dur(row['departure time'], row['arrival time']), axis=1)\n",
    "#print(test_pandas)\n",
    "\n",
    "train = Table.from_df(train_pandas)\n",
    "test = Table.from_df(test_pandas)\n",
    "\n",
    "\n",
    "training_distance = train.column(\"dist (miles)\")\n",
    "fare_train = train.column(\"fare ($)\")\n",
    "base_fare_train = (2.75 * training_distance) + 2.95\n",
    "extra_fare_train = fare_train - base_fare_train\n",
    "extra = train.select(\"dist (miles)\", \"fare ($)\", \"duration\").with_column(\"base fare ($)\", base_fare_train, \"extra fare ($)\", extra_fare_train)\n",
    "extra\n",
    "#print(tax)\n",
    "model = linear_model.LinearRegression()\n",
    "model.fit(extra['duration'].reshape(-1, 1), extra['extra fare ($)'])\n",
    "\n",
    "ypredicted = model.predict(test['duration'].reshape(-1,1))\n",
    "test['extra fare duration'] = ypredicted\n",
    "#print(extra)\n",
    "\n",
    "d=training_distance\n",
    "e=extra_fare_train\n",
    "theta1 = np.sum(d*(e-np.mean(e)))/np.sum(d*(d-np.mean(d)))\n",
    "theta2 = -theta1 * np.mean(d) + np.mean(e)\n",
    "theta1, theta2\n",
    "\n",
    "testing_distance = test[\"dist (miles)\"]\n",
    "fare_test = test[\"fare ($)\"]\n",
    "base_fare_test = (2.75 * testing_distance) + 2.95\n",
    "extra_fare_test = fare_test - base_fare_test\n",
    "extra2 = test.select(\"dist (miles)\", \"fare ($)\", \"duration\", \"extra fare duration\").with_column(\"base fare ($)\", base_fare_test, \"extra fare ($)\", extra_fare_test)\n",
    "\n",
    "extra2\n",
    "extra_fare_predictions = theta1 * testing_distance + theta2\n",
    "extra_fare_predictions\n",
    "extra2 = extra2.with_column(\"extra fare predictions\", extra_fare_predictions)\n",
    "extra2"
   ]
  },
  {
   "cell_type": "code",
   "execution_count": 56,
   "metadata": {},
   "outputs": [
    {
     "name": "stdout",
     "output_type": "stream",
     "text": [
      "244212.787613\n",
      "324372.480035\n"
     ]
    }
   ],
   "source": [
    "####\n",
    "###             ANALYSIS 4\n",
    "####\n",
    "###\n",
    "def sse(a,b):\n",
    "    \n",
    "    return (a - b) * (a - b)\n",
    "\n",
    "predictions_in_pd = extra2.to_df()\n",
    "predictions_in_pd['durationerror'] = predictions_in_pd.apply(lambda row: sse(row['extra fare duration'], row['extra fare ($)']), axis=1)\n",
    "predictions_in_pd['disterror'] = predictions_in_pd.apply(lambda row: sse(row['extra fare predictions'], row['extra fare ($)']), axis=1)\n",
    "predictions_in_pd\n",
    "print(sum(predictions_in_pd['durationerror']))\n",
    "print(sum(predictions_in_pd['disterror']))"
   ]
  },
  {
   "cell_type": "code",
   "execution_count": 57,
   "metadata": {},
   "outputs": [
    {
     "data": {
      "text/plain": [
       "20.09485621765371"
      ]
     },
     "execution_count": 57,
     "metadata": {},
     "output_type": "execute_result"
    }
   ],
   "source": [
    "LSE = (1/extra2.num_rows)*(np.sum((extra2.column(\"extra fare ($)\")-extra2.column(\"extra fare duration\"))**2))\n",
    "LSE\n",
    "#lower SSE and LSE for duration vs. extra cost than analysis 3"
   ]
  },
  {
   "cell_type": "markdown",
   "metadata": {},
   "source": [
    "### Analysis 5"
   ]
  },
  {
   "cell_type": "code",
   "execution_count": 58,
   "metadata": {},
   "outputs": [
    {
     "data": {
      "text/html": [
       "<table border=\"1\" class=\"dataframe\">\n",
       "    <thead>\n",
       "        <tr>\n",
       "            <th>fare ($)</th> <th>dist (miles)</th> <th>dates</th>\n",
       "        </tr>\n",
       "    </thead>\n",
       "    <tbody>\n",
       "        <tr>\n",
       "            <td>3.5     </td> <td>14.1204     </td> <td>2012-09-11</td>\n",
       "        </tr>\n",
       "    </tbody>\n",
       "        <tr>\n",
       "            <td>4.05    </td> <td>0.688177    </td> <td>2012-09-13</td>\n",
       "        </tr>\n",
       "    </tbody>\n",
       "        <tr>\n",
       "            <td>4.05    </td> <td>0.33726     </td> <td>2012-09-13</td>\n",
       "        </tr>\n",
       "    </tbody>\n",
       "        <tr>\n",
       "            <td>4.05    </td> <td>0.693927    </td> <td>2012-09-14</td>\n",
       "        </tr>\n",
       "    </tbody>\n",
       "        <tr>\n",
       "            <td>4.05    </td> <td>0           </td> <td>2012-09-15</td>\n",
       "        </tr>\n",
       "    </tbody>\n",
       "        <tr>\n",
       "            <td>4.05    </td> <td>0.447954    </td> <td>2012-09-15</td>\n",
       "        </tr>\n",
       "    </tbody>\n",
       "        <tr>\n",
       "            <td>4.05    </td> <td>0.2672      </td> <td>2012-09-14</td>\n",
       "        </tr>\n",
       "    </tbody>\n",
       "        <tr>\n",
       "            <td>4.05    </td> <td>0           </td> <td>2012-09-11</td>\n",
       "        </tr>\n",
       "    </tbody>\n",
       "        <tr>\n",
       "            <td>4.05    </td> <td>0           </td> <td>2012-09-12</td>\n",
       "        </tr>\n",
       "    </tbody>\n",
       "        <tr>\n",
       "            <td>4.05    </td> <td>0.193274    </td> <td>2012-09-16</td>\n",
       "        </tr>\n",
       "    </tbody>\n",
       "</table>\n",
       "<p>... (12143 rows omitted)</p"
      ],
      "text/plain": [
       "fare ($) | dist (miles) | dates\n",
       "3.5      | 14.1204      | 2012-09-11\n",
       "4.05     | 0.688177     | 2012-09-13\n",
       "4.05     | 0.33726      | 2012-09-13\n",
       "4.05     | 0.693927     | 2012-09-14\n",
       "4.05     | 0            | 2012-09-15\n",
       "4.05     | 0.447954     | 2012-09-15\n",
       "4.05     | 0.2672       | 2012-09-14\n",
       "4.05     | 0            | 2012-09-11\n",
       "4.05     | 0            | 2012-09-12\n",
       "4.05     | 0.193274     | 2012-09-16\n",
       "... (12143 rows omitted)"
      ]
     },
     "execution_count": 58,
     "metadata": {},
     "output_type": "execute_result"
    }
   ],
   "source": [
    "train = sf_taxi.with_column(\"dates\", dates).where(\"dates\", are.between(datetime.date(2012, 9, 1), datetime.date(2012, 9, 11)))\n",
    "test = sf_taxi.with_column(\"dates\", dates).where(\"dates\", are.between(datetime.date(2012, 9, 11), datetime.date(2012, 9, 18)))\n",
    "train_5 = train.select(\"fare ($)\", \"dist (miles)\", \"dates\")\n",
    "test_5 = test.select(\"fare ($)\", \"dist (miles)\", \"dates\")\n",
    "test_5"
   ]
  },
  {
   "cell_type": "code",
   "execution_count": 59,
   "metadata": {},
   "outputs": [
    {
     "data": {
      "text/plain": [
       "(3.3127206133412672, 5.0997545042908108)"
      ]
     },
     "execution_count": 59,
     "metadata": {},
     "output_type": "execute_result"
    }
   ],
   "source": [
    "#Method 1: Linear Regression\n",
    "\n",
    "x = train_5[\"dist (miles)\"]\n",
    "y = train_5[\"fare ($)\"]\n",
    "theta1 = np.sum(x*(y-np.mean(y)))/np.sum(x*(x-np.mean(x)))\n",
    "theta2 = -theta1*np.mean(x) + np.mean(y)\n",
    "theta1, theta2"
   ]
  },
  {
   "cell_type": "code",
   "execution_count": 60,
   "metadata": {},
   "outputs": [
    {
     "name": "stdout",
     "output_type": "stream",
     "text": [
      "r:  0.949745951912\n",
      "The correlation coefficient is very high, meaning that linear regression is likely to be more accurate than the k-means method.\n"
     ]
    }
   ],
   "source": [
    "#Calculating correlation coefficient\n",
    "\n",
    "sux = (x - np.mean(x))/np.std(x)\n",
    "suy = (y - np.mean(y))/np.std(y)\n",
    "\n",
    "r = np.mean(suy * sux)\n",
    "\n",
    "print(\"r: \",r) \n",
    "print(\"The correlation coefficient is very high, meaning that linear regression is likely to be more accurate than the k-means method.\")"
   ]
  },
  {
   "cell_type": "code",
   "execution_count": 61,
   "metadata": {},
   "outputs": [
    {
     "data": {
      "image/png": "[encoded data removed]",
      "text/plain": [
       "<matplotlib.figure.Figure at 0x7f9589514c18>"
      ]
     },
     "metadata": {},
     "output_type": "display_data"
    }
   ],
   "source": [
    "#Visualize\n",
    "plt.plot(train_5[\"dist (miles)\"], train_5[\"fare ($)\"], 'rx')\n",
    "xlim = plt.gca().get_xlim()\n",
    "ylim = plt.gca().get_ylim()\n",
    "plt.plot(test_5[\"dist (miles)\"], test_5[\"fare ($)\"], 'bx')\n",
    "plt.plot(xlim, [theta1*xlim[0]+theta2, theta1*xlim[1]+theta2], 'g-')\n",
    "plt.legend([\"Train\", \"Test\", \"Squared loss fit\"], loc=\"upper left\")\n",
    "plt.xlabel(\"Distance (miles)\")\n",
    "plt.ylabel(\"Fare ($))\")\n",
    "plt.tight_layout()"
   ]
  },
  {
   "cell_type": "code",
   "execution_count": 62,
   "metadata": {},
   "outputs": [
    {
     "data": {
      "text/plain": [
       "26.690733155169941"
      ]
     },
     "execution_count": 62,
     "metadata": {},
     "output_type": "execute_result"
    }
   ],
   "source": [
    "#Least Squared Error\n",
    "LSE = sum((test_5[\"fare ($)\"]-(theta1*test_5[\"dist (miles)\"]+theta2))**2)/test.num_rows\n",
    "LSE"
   ]
  },
  {
   "cell_type": "code",
   "execution_count": 63,
   "metadata": {},
   "outputs": [
    {
     "data": {
      "text/plain": [
       "(36.873386604130744, 25.377421029869186, 24.201884571052386)"
      ]
     },
     "execution_count": 63,
     "metadata": {},
     "output_type": "execute_result"
    }
   ],
   "source": [
    "#Method 2: K Nearest Neighbors\n",
    "def distance(x, y):\n",
    "    return np.sqrt(np.sum((x-y)**2,1))\n",
    "\n",
    "def predict_fare(input_table, to_predict, k, averaging=True):\n",
    "    input_data = input_table.select('dist (miles)').values\n",
    "    dists = distance(to_predict, input_data)\n",
    "    inds = np.argsort(dists)[0:k]\n",
    "    if averaging:\n",
    "        most_common_response = np.mean(input_table['fare ($)'][inds])\n",
    "    else:\n",
    "        most_common_response = np.argmax(np.bincount(list(input_table['fare ($)'][inds])))    \n",
    "    return most_common_response\n",
    "\n",
    "test_5['predicted_k1'] = test_5.apply(lambda dist: predict_fare(train_5, dist, 1, True),'dist (miles)')\n",
    "test_5['predicted_k5'] = test_5.apply(lambda dist: predict_fare(train_5, dist, 5, True),'dist (miles)')\n",
    "test_5['predicted_k10'] = test_5.apply(lambda dist: predict_fare(train_5, dist, 10, True),'dist (miles)')\n",
    "\n",
    "#Least Squared Error\n",
    "LSE_k1 = sum((test_5[\"fare ($)\"]-test_5[\"predicted_k1\"])**2)/test_5.num_rows\n",
    "LSE_k5 = sum((test_5[\"fare ($)\"]-test_5[\"predicted_k5\"])**2)/test_5.num_rows\n",
    "LSE_k10 = sum((test_5[\"fare ($)\"]-test_5[\"predicted_k10\"])**2)/test_5.num_rows\n",
    "\n",
    "LSE_k1, LSE_k5, LSE_k10"
   ]
  },
  {
   "cell_type": "code",
   "execution_count": 64,
   "metadata": {},
   "outputs": [
    {
     "data": {
      "image/png": "[encoded data removed]",
      "text/plain": [
       "<matplotlib.figure.Figure at 0x7f9583e25048>"
      ]
     },
     "metadata": {},
     "output_type": "display_data"
    }
   ],
   "source": [
    "#Visualize\n",
    "k_error = Table().with_columns(\"k\", [1, 5, 10], \"Least Squared Error\", [LSE_k1, LSE_k5, LSE_k10])\n",
    "k_error.select(\"k\", \"Least Squared Error\").scatter(\"k\", fit_line=True)"
   ]
  },
  {
   "cell_type": "code",
   "execution_count": null,
   "metadata": {},
   "outputs": [],
   "source": []
  }
 ],
 "metadata": {
  "kernelspec": {
   "display_name": "Python 3",
   "language": "python",
   "name": "python3"
  },
  "language_info": {
   "codemirror_mode": {
    "name": "ipython",
    "version": 3
   },
   "file_extension": ".py",
   "mimetype": "text/x-python",
   "name": "python",
   "nbconvert_exporter": "python",
   "pygments_lexer": "ipython3",
   "version": "3.6.1"
  }
 },
 "nbformat": 4,
 "nbformat_minor": 2
}
